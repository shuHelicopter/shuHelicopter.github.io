{
 "cells": [
  {
   "cell_type": "markdown",
   "metadata": {},
   "source": [
    "### Author: Shu Liu \n",
    "#### Email: shutel@hotmail.com"
   ]
  },
  {
   "cell_type": "markdown",
   "metadata": {},
   "source": [
    "# Part 1 - Keep Learning"
   ]
  },
  {
   "cell_type": "markdown",
   "metadata": {},
   "source": [
    "### 1. Five exciting data science websites"
   ]
  },
  {
   "cell_type": "markdown",
   "metadata": {},
   "source": [
    "**1) Kaggle Competition Past Solutions from Top Rankers: http://www.chioka.in/kaggle-competition-solutions/**  \n",
    "Why I recommand: Learning from experts' code is always a good way to imporve yourself.\n",
    "\n",
    "**2) COURSERA courses 'Machine Learning Specialization': https://www.coursera.org/specializations/machine-learning**  \n",
    "Why I recommand: My favorite part of this specailization is the assignments. The assignments definitely help you understand how to code the regression, classification and clustering models from scratch instead of just using the functions from scikit-learn. (You can also check my completed coding of those assignmens here: https://github.com/shuHelicopter/Machine_Learning_Specialization_University_of_Washington). By the way, the instructors of these four courses are a talented couple, Carlos and Emily.\n",
    "\n",
    "**3) R for Data Science: http://r4ds.had.co.nz**  \n",
    "Why I recommand: I also code in R besides Python. R and Python have own advantages over each other. R specializes in data visualization, exploratory data analysis, and statistical learning. Python has obvious advantages in developing and optimizing machine learning models, deep learning, and interaction with other platforms.\n",
    "\n",
    "**4) Data Science Course by Harvard University: http://cs109.github.io/2015/pages/videos.html**  \n",
    "Why I recommand: This course is great introduction to data science. It covers web scraping, statistical analysis, machine learning, and natural language processing. It's One of best coursers I have ever seen.\n",
    "\n",
    "**5) A gallery of interesting Jupyter Notebooks: https://github.com/jupyter/jupyter/wiki/A-gallery-of-interesting-Jupyter-Notebooks**  \n",
    "Why I recommand: You can find a great number of coding examples here. This is a treasury!"
   ]
  },
  {
   "cell_type": "markdown",
   "metadata": {},
   "source": [
    "### 2. Three amazing papers"
   ]
  },
  {
   "cell_type": "markdown",
   "metadata": {},
   "source": [
    "**1) XGboost by Tianqi Chen and Tong He: 'Higgs Boson Discovery with Boosted Trees'**  \n",
    "Why I recommand: XGboost is the most popular model in Kaggle competitions because of its high efficiency and accruacy. This model helps lots of competitors rank on the top list easily. This paper explains the algorithms and applications of XGboost in a clear format and why it trumps other machine learning methods. Tianqi Chen is the author of XGboos algorithm, and Tong He is author of 'xgboost' R package.\n",
    "\n",
    "**2) Cross-Validation and Overfitting by Andrew Y. Ng: 'Preventing 'Overfitting' of Cross-Validation Data'**  \n",
    "**3) Latent Dirichlet Allocation Model by Andrew Y.Ng: 'Latent Dirichlet Allocation'**  \n",
    "Why I recommand: The above two papers are wrote by, Andrew Ng, the big boss in machine learning. Overfittiing is very comman in data modeling, and cross-validation is the way to solve it. LDA is an unsupervised learning topic model which can extract invaluable insights from text data.\n",
    "\n",
    "Papers are in the 'Papers' file."
   ]
  },
  {
   "cell_type": "markdown",
   "metadata": {},
   "source": [
    "### 3. The Data Science Book"
   ]
  },
  {
   "cell_type": "markdown",
   "metadata": {},
   "source": [
    "** 1)'An Introduction to Statistical Learning'** by Gareth James, Daniela Witten, Trevor Hastie and Robert Tibshirani.  \n",
    "I'd also introduce another two excellent books:  \n",
    "** 2) 'The Elements of Statistical Learning: Data Mining, Inference, and Prediction'** by Hastie, Trevor, Tibshirani, Robert, Friedman, Jerome  \n",
    "** 3) 'Python Machine Learning'** by Sebastian Raschka  \n",
    "\n",
    "The book 1 and book 2 explain machine learning models from a mathematical persepctive. The book 3 focuses more on how to practically implement machine learning methods in Python. The book 2 is most time-consuming, becasue it has lots of detailed formulas and mathematical theories. I love book 1 most because its great balance between coding and model alogrithms. For book 2 and book 2, they are on the top of my reading list.  \n",
    "Moreover, the 'Machine Learning Specialization' courses on COURSERA are as great as the above books."
   ]
  },
  {
   "cell_type": "markdown",
   "metadata": {},
   "source": [
    "# Part 2 - Exploratory Data Analysis"
   ]
  },
  {
   "cell_type": "markdown",
   "metadata": {},
   "source": [
    "Connect to the database:"
   ]
  },
  {
   "cell_type": "code",
   "execution_count": 7,
   "metadata": {},
   "outputs": [
    {
     "name": "stdout",
     "output_type": "stream",
     "text": [
      "Open database successfully\n"
     ]
    }
   ],
   "source": [
    "conn  = psycopg2.connect(database = 'postgres', \n",
    "                        user = '***', \n",
    "                        password = '******', \n",
    "                        host = '*****compute.amazonaws.com', \n",
    "                        port = '****')\n",
    "print \"Open database successfully\""
   ]
  },
  {
   "cell_type": "code",
   "execution_count": 9,
   "metadata": {
    "collapsed": true
   },
   "outputs": [],
   "source": [
    "cursor = conn.cursor()\n",
    "cursor.execute('SELECT id,bedrooms, bathrooms, city, country, \\\n",
    "               is_location_exact, lat, lng, price, description, \\\n",
    "               picture_urls, picture_captions, star_rating, \\\n",
    "               recent_review FROM public.case_study_data_short_term_rentals')\n",
    "rows = cursor.fetchall()\n",
    "conn.close()"
   ]
  },
  {
   "cell_type": "code",
   "execution_count": 3,
   "metadata": {
    "collapsed": true
   },
   "outputs": [],
   "source": [
    "import psycopg2 # connect to the database\n",
    "import pandas as pd # data manipulation\n",
    "import numpy as np # matrix operation\n",
    "import math # mathematical calcualtion"
   ]
  },
  {
   "cell_type": "markdown",
   "metadata": {},
   "source": [
    "Create the dataframe:"
   ]
  },
  {
   "cell_type": "code",
   "execution_count": 4,
   "metadata": {
    "collapsed": true
   },
   "outputs": [],
   "source": [
    "labels = ['id', 'bedrooms', 'bathrooms', 'city', 'country', \\\n",
    "          'is_location_exact', 'lat', 'lng', 'price', 'description', \\\n",
    "          'picture_urls', 'picture_captions', 'star_rating', \\\n",
    "          'recent_review']"
   ]
  },
  {
   "cell_type": "code",
   "execution_count": 5,
   "metadata": {},
   "outputs": [
    {
     "ename": "NameError",
     "evalue": "name 'rows' is not defined",
     "output_type": "error",
     "traceback": [
      "\u001b[0;31m---------------------------------------------------------------------------\u001b[0m",
      "\u001b[0;31mNameError\u001b[0m                                 Traceback (most recent call last)",
      "\u001b[0;32m<ipython-input-5-a1be2b349673>\u001b[0m in \u001b[0;36m<module>\u001b[0;34m()\u001b[0m\n\u001b[0;32m----> 1\u001b[0;31m \u001b[0mrentals\u001b[0m \u001b[0;34m=\u001b[0m \u001b[0mpd\u001b[0m\u001b[0;34m.\u001b[0m\u001b[0mDataFrame\u001b[0m\u001b[0;34m.\u001b[0m\u001b[0mfrom_records\u001b[0m\u001b[0;34m(\u001b[0m\u001b[0mrows\u001b[0m\u001b[0;34m,\u001b[0m \u001b[0mcolumns\u001b[0m \u001b[0;34m=\u001b[0m \u001b[0mlabels\u001b[0m\u001b[0;34m)\u001b[0m\u001b[0;34m\u001b[0m\u001b[0m\n\u001b[0m",
      "\u001b[0;31mNameError\u001b[0m: name 'rows' is not defined"
     ]
    }
   ],
   "source": [
    "rentals = pd.DataFrame.from_records(rows, columns = labels)"
   ]
  },
  {
   "cell_type": "markdown",
   "metadata": {},
   "source": [
    "Save the dataframe to local files:"
   ]
  },
  {
   "cell_type": "code",
   "execution_count": 29,
   "metadata": {
    "collapsed": true
   },
   "outputs": [],
   "source": [
    "# rentals.to_csv('rentals.csv') # save the intermediate data table"
   ]
  },
  {
   "cell_type": "markdown",
   "metadata": {},
   "source": [
    "Read the local files:"
   ]
  },
  {
   "cell_type": "code",
   "execution_count": 6,
   "metadata": {
    "collapsed": true
   },
   "outputs": [],
   "source": [
    "# rentals = pd.read_csv('rentals.csv', index_col = 0) # read the intermediate data table"
   ]
  },
  {
   "cell_type": "code",
   "execution_count": 7,
   "metadata": {},
   "outputs": [
    {
     "data": {
      "text/html": [
       "<div>\n",
       "<style>\n",
       "    .dataframe thead tr:only-child th {\n",
       "        text-align: right;\n",
       "    }\n",
       "\n",
       "    .dataframe thead th {\n",
       "        text-align: left;\n",
       "    }\n",
       "\n",
       "    .dataframe tbody tr th {\n",
       "        vertical-align: top;\n",
       "    }\n",
       "</style>\n",
       "<table border=\"1\" class=\"dataframe\">\n",
       "  <thead>\n",
       "    <tr style=\"text-align: right;\">\n",
       "      <th></th>\n",
       "      <th>id</th>\n",
       "      <th>bedrooms</th>\n",
       "      <th>bathrooms</th>\n",
       "      <th>city</th>\n",
       "      <th>country</th>\n",
       "      <th>is_location_exact</th>\n",
       "      <th>lat</th>\n",
       "      <th>lng</th>\n",
       "      <th>price</th>\n",
       "      <th>description</th>\n",
       "      <th>picture_urls</th>\n",
       "      <th>picture_captions</th>\n",
       "      <th>star_rating</th>\n",
       "      <th>recent_review</th>\n",
       "    </tr>\n",
       "  </thead>\n",
       "  <tbody>\n",
       "    <tr>\n",
       "      <th>0</th>\n",
       "      <td>13050007</td>\n",
       "      <td>1</td>\n",
       "      <td>1.0</td>\n",
       "      <td>Vannes</td>\n",
       "      <td>France</td>\n",
       "      <td>True</td>\n",
       "      <td>47.6572</td>\n",
       "      <td>-2.76339</td>\n",
       "      <td>46</td>\n",
       "      <td>-1</td>\n",
       "      <td>[u'https://a0.muscache.com/im/pictures/d9ff813...</td>\n",
       "      <td>[u'', u'', u'', u'', u'', u'']</td>\n",
       "      <td>4.5</td>\n",
       "      <td>{u'review': {u'listing_id': 13050007, u'review...</td>\n",
       "    </tr>\n",
       "    <tr>\n",
       "      <th>1</th>\n",
       "      <td>13050008</td>\n",
       "      <td>1</td>\n",
       "      <td>1.0</td>\n",
       "      <td>Pleyben</td>\n",
       "      <td>France</td>\n",
       "      <td>True</td>\n",
       "      <td>48.1947</td>\n",
       "      <td>-3.98124</td>\n",
       "      <td>76</td>\n",
       "      <td>-1</td>\n",
       "      <td>[u'https://a0.muscache.com/im/pictures/7214c19...</td>\n",
       "      <td>[u'']</td>\n",
       "      <td>-1.0</td>\n",
       "      <td>-1</td>\n",
       "    </tr>\n",
       "    <tr>\n",
       "      <th>2</th>\n",
       "      <td>13050011</td>\n",
       "      <td>1</td>\n",
       "      <td>1.5</td>\n",
       "      <td>Buffels Bay</td>\n",
       "      <td>South Africa</td>\n",
       "      <td>False</td>\n",
       "      <td>-34.0351</td>\n",
       "      <td>22.94220</td>\n",
       "      <td>28</td>\n",
       "      <td>My place is good for couples, solo adventurers...</td>\n",
       "      <td>[u'https://a0.muscache.com/im/pictures/2d87bc1...</td>\n",
       "      <td>[u'Double room: this room can sleep 3 guests',...</td>\n",
       "      <td>-1.0</td>\n",
       "      <td>-1</td>\n",
       "    </tr>\n",
       "    <tr>\n",
       "      <th>3</th>\n",
       "      <td>13050014</td>\n",
       "      <td>2</td>\n",
       "      <td>1.5</td>\n",
       "      <td>Budapest</td>\n",
       "      <td>Hungary</td>\n",
       "      <td>True</td>\n",
       "      <td>47.4932</td>\n",
       "      <td>19.05360</td>\n",
       "      <td>31</td>\n",
       "      <td>-1</td>\n",
       "      <td>[u'https://a0.muscache.com/im/pictures/75a6b89...</td>\n",
       "      <td>[u'', u'', u'', u'', u'', u'', u'', u'', u'Vie...</td>\n",
       "      <td>-1.0</td>\n",
       "      <td>{u'review': {u'listing_id': 13050014, u'review...</td>\n",
       "    </tr>\n",
       "    <tr>\n",
       "      <th>4</th>\n",
       "      <td>13050019</td>\n",
       "      <td>2</td>\n",
       "      <td>1.0</td>\n",
       "      <td>Hannover</td>\n",
       "      <td>Germany</td>\n",
       "      <td>True</td>\n",
       "      <td>52.3669</td>\n",
       "      <td>9.75010</td>\n",
       "      <td>131</td>\n",
       "      <td>-1</td>\n",
       "      <td>[u'https://a0.muscache.com/im/pictures/1d9b08c...</td>\n",
       "      <td>[u'E\\xdfecke in der K\\xfcche', u'', u'Doppelbe...</td>\n",
       "      <td>-1.0</td>\n",
       "      <td>-1</td>\n",
       "    </tr>\n",
       "  </tbody>\n",
       "</table>\n",
       "</div>"
      ],
      "text/plain": [
       "         id  bedrooms  bathrooms         city       country  \\\n",
       "0  13050007         1        1.0       Vannes        France   \n",
       "1  13050008         1        1.0      Pleyben        France   \n",
       "2  13050011         1        1.5  Buffels Bay  South Africa   \n",
       "3  13050014         2        1.5     Budapest       Hungary   \n",
       "4  13050019         2        1.0     Hannover       Germany   \n",
       "\n",
       "   is_location_exact      lat       lng  price  \\\n",
       "0               True  47.6572  -2.76339     46   \n",
       "1               True  48.1947  -3.98124     76   \n",
       "2              False -34.0351  22.94220     28   \n",
       "3               True  47.4932  19.05360     31   \n",
       "4               True  52.3669   9.75010    131   \n",
       "\n",
       "                                         description  \\\n",
       "0                                                 -1   \n",
       "1                                                 -1   \n",
       "2  My place is good for couples, solo adventurers...   \n",
       "3                                                 -1   \n",
       "4                                                 -1   \n",
       "\n",
       "                                        picture_urls  \\\n",
       "0  [u'https://a0.muscache.com/im/pictures/d9ff813...   \n",
       "1  [u'https://a0.muscache.com/im/pictures/7214c19...   \n",
       "2  [u'https://a0.muscache.com/im/pictures/2d87bc1...   \n",
       "3  [u'https://a0.muscache.com/im/pictures/75a6b89...   \n",
       "4  [u'https://a0.muscache.com/im/pictures/1d9b08c...   \n",
       "\n",
       "                                    picture_captions  star_rating  \\\n",
       "0                     [u'', u'', u'', u'', u'', u'']          4.5   \n",
       "1                                              [u'']         -1.0   \n",
       "2  [u'Double room: this room can sleep 3 guests',...         -1.0   \n",
       "3  [u'', u'', u'', u'', u'', u'', u'', u'', u'Vie...         -1.0   \n",
       "4  [u'E\\xdfecke in der K\\xfcche', u'', u'Doppelbe...         -1.0   \n",
       "\n",
       "                                       recent_review  \n",
       "0  {u'review': {u'listing_id': 13050007, u'review...  \n",
       "1                                                 -1  \n",
       "2                                                 -1  \n",
       "3  {u'review': {u'listing_id': 13050014, u'review...  \n",
       "4                                                 -1  "
      ]
     },
     "execution_count": 7,
     "metadata": {},
     "output_type": "execute_result"
    }
   ],
   "source": [
    "rentals.head()"
   ]
  },
  {
   "cell_type": "code",
   "execution_count": 20,
   "metadata": {},
   "outputs": [
    {
     "data": {
      "text/plain": [
       "(919, 14)"
      ]
     },
     "execution_count": 20,
     "metadata": {},
     "output_type": "execute_result"
    }
   ],
   "source": [
    "rentals.shape"
   ]
  },
  {
   "cell_type": "markdown",
   "metadata": {},
   "source": [
    "### Q1: How many listings are unique? (Filter out duplicates if any)"
   ]
  },
  {
   "cell_type": "code",
   "execution_count": 21,
   "metadata": {
    "collapsed": true
   },
   "outputs": [],
   "source": [
    "unique_rentals = rentals.drop_duplicates()"
   ]
  },
  {
   "cell_type": "code",
   "execution_count": 22,
   "metadata": {},
   "outputs": [
    {
     "data": {
      "text/plain": [
       "(919, 14)"
      ]
     },
     "execution_count": 22,
     "metadata": {},
     "output_type": "execute_result"
    }
   ],
   "source": [
    "unique_rentals.shape"
   ]
  },
  {
   "cell_type": "markdown",
   "metadata": {},
   "source": [
    "It seems that this dataset has no duplicates. What if we drop the column 'id'?"
   ]
  },
  {
   "cell_type": "code",
   "execution_count": 23,
   "metadata": {
    "collapsed": true
   },
   "outputs": [],
   "source": [
    "rentals_noid = rentals.drop(['id'], axis = 1)"
   ]
  },
  {
   "cell_type": "code",
   "execution_count": 24,
   "metadata": {},
   "outputs": [
    {
     "data": {
      "text/plain": [
       "(919, 13)"
      ]
     },
     "execution_count": 24,
     "metadata": {},
     "output_type": "execute_result"
    }
   ],
   "source": [
    "unique_rentals_noid = rentals_noid.drop_duplicates()\n",
    "unique_rentals_noid.shape"
   ]
  },
  {
   "cell_type": "markdown",
   "metadata": {},
   "source": [
    "Nothing change, so there is no duplicates in this dataset."
   ]
  },
  {
   "cell_type": "markdown",
   "metadata": {},
   "source": [
    "### Q2: What country has the highest median price for a one bedroom?"
   ]
  },
  {
   "cell_type": "code",
   "execution_count": 12,
   "metadata": {
    "collapsed": true
   },
   "outputs": [],
   "source": [
    "rentals['price_bedroom'] = rentals['price'] / rentals['bedrooms']"
   ]
  },
  {
   "cell_type": "code",
   "execution_count": 13,
   "metadata": {},
   "outputs": [
    {
     "data": {
      "text/plain": [
       "(52, 15)"
      ]
     },
     "execution_count": 13,
     "metadata": {},
     "output_type": "execute_result"
    }
   ],
   "source": [
    "rentals[rentals['bedrooms'] == 0].shape"
   ]
  },
  {
   "cell_type": "markdown",
   "metadata": {},
   "source": [
    "52 listings has 0 bedroom, which will give an 'inf' value in 'price_bedroom'. To understand the influence of 'inf' value in our anlaysis, we rank the median price per bedroom with both 0-filtered and non-filterted datasets."
   ]
  },
  {
   "cell_type": "markdown",
   "metadata": {},
   "source": [
    "Non-fitlerted dataset:"
   ]
  },
  {
   "cell_type": "code",
   "execution_count": 15,
   "metadata": {},
   "outputs": [
    {
     "name": "stderr",
     "output_type": "stream",
     "text": [
      "/Users/shute/anaconda/lib/python2.7/site-packages/ipykernel/__main__.py:1: FutureWarning:\n",
      "\n",
      "sort(columns=....) is deprecated, use sort_values(by=.....)\n",
      "\n"
     ]
    },
    {
     "data": {
      "text/html": [
       "<div>\n",
       "<table border=\"1\" class=\"dataframe\">\n",
       "  <thead>\n",
       "    <tr style=\"text-align: right;\">\n",
       "      <th></th>\n",
       "      <th>price_bedroom</th>\n",
       "    </tr>\n",
       "    <tr>\n",
       "      <th>country</th>\n",
       "      <th></th>\n",
       "    </tr>\n",
       "  </thead>\n",
       "  <tbody>\n",
       "    <tr>\n",
       "      <th>Georgia</th>\n",
       "      <td>inf</td>\n",
       "    </tr>\n",
       "    <tr>\n",
       "      <th>-1</th>\n",
       "      <td>256.000000</td>\n",
       "    </tr>\n",
       "    <tr>\n",
       "      <th>Bermuda</th>\n",
       "      <td>240.000000</td>\n",
       "    </tr>\n",
       "    <tr>\n",
       "      <th>United Arab Emirates</th>\n",
       "      <td>112.500000</td>\n",
       "    </tr>\n",
       "    <tr>\n",
       "      <th>Panama</th>\n",
       "      <td>110.000000</td>\n",
       "    </tr>\n",
       "  </tbody>\n",
       "</table>\n",
       "</div>"
      ],
      "text/plain": [
       "                      price_bedroom\n",
       "country                            \n",
       "Georgia                         inf\n",
       "-1                       256.000000\n",
       "Bermuda                  240.000000\n",
       "United Arab Emirates     112.500000\n",
       "Panama                   110.000000"
      ]
     },
     "execution_count": 15,
     "metadata": {},
     "output_type": "execute_result"
    }
   ],
   "source": [
    "rentals.groupby(['country'])[['price_bedroom']].median().sort('price_bedroom', ascending = False).head()"
   ]
  },
  {
   "cell_type": "markdown",
   "metadata": {},
   "source": [
    "Filtered dataset (without 0 bedroom):"
   ]
  },
  {
   "cell_type": "code",
   "execution_count": 28,
   "metadata": {},
   "outputs": [
    {
     "name": "stderr",
     "output_type": "stream",
     "text": [
      "/Users/shute/anaconda/lib/python2.7/site-packages/ipykernel/__main__.py:1: FutureWarning:\n",
      "\n",
      "sort(columns=....) is deprecated, use sort_values(by=.....)\n",
      "\n"
     ]
    },
    {
     "data": {
      "text/html": [
       "<div>\n",
       "<table border=\"1\" class=\"dataframe\">\n",
       "  <thead>\n",
       "    <tr style=\"text-align: right;\">\n",
       "      <th></th>\n",
       "      <th>price_bedroom</th>\n",
       "    </tr>\n",
       "    <tr>\n",
       "      <th>country</th>\n",
       "      <th></th>\n",
       "    </tr>\n",
       "  </thead>\n",
       "  <tbody>\n",
       "    <tr>\n",
       "      <th>-1</th>\n",
       "      <td>256.000000</td>\n",
       "    </tr>\n",
       "    <tr>\n",
       "      <th>Bermuda</th>\n",
       "      <td>240.000000</td>\n",
       "    </tr>\n",
       "    <tr>\n",
       "      <th>Panama</th>\n",
       "      <td>110.000000</td>\n",
       "    </tr>\n",
       "    <tr>\n",
       "      <th>United Arab Emirates</th>\n",
       "      <td>97.916667</td>\n",
       "    </tr>\n",
       "    <tr>\n",
       "      <th>Dominican Republic</th>\n",
       "      <td>95.000000</td>\n",
       "    </tr>\n",
       "  </tbody>\n",
       "</table>\n",
       "</div>"
      ],
      "text/plain": [
       "                      price_bedroom\n",
       "country                            \n",
       "-1                       256.000000\n",
       "Bermuda                  240.000000\n",
       "Panama                   110.000000\n",
       "United Arab Emirates      97.916667\n",
       "Dominican Republic        95.000000"
      ]
     },
     "execution_count": 28,
     "metadata": {},
     "output_type": "execute_result"
    }
   ],
   "source": [
    "rentals[rentals['bedrooms'] != 0].groupby(['country'])[['price_bedroom']].median().sort('price_bedroom', ascending = False).head()"
   ]
  },
  {
   "cell_type": "markdown",
   "metadata": {},
   "source": [
    "Based on the above results, we conclude 'Bermuda' has the highest median price '240.0' for a one bedroom. There is no information of '-1' value in the dataset, but we believe this may be a symbol of missing value or wrong data."
   ]
  },
  {
   "cell_type": "markdown",
   "metadata": {},
   "source": [
    "### Q3: Find two unique listings that have the shortest distance (euclidean distance / orthodromic distance)"
   ]
  },
  {
   "cell_type": "markdown",
   "metadata": {},
   "source": [
    "1) Calculate Eucildean Distance:  dist(x, y) = sqrt(dot(x, x) - 2 * dot(x, y) + dot(y, y))  \n",
    "We don't need to normalize the data because they are on the same scale here."
   ]
  },
  {
   "cell_type": "code",
   "execution_count": 29,
   "metadata": {},
   "outputs": [
    {
     "data": {
      "text/html": [
       "<div>\n",
       "<table border=\"1\" class=\"dataframe\">\n",
       "  <thead>\n",
       "    <tr style=\"text-align: right;\">\n",
       "      <th></th>\n",
       "      <th>id</th>\n",
       "      <th>lat</th>\n",
       "      <th>lng</th>\n",
       "    </tr>\n",
       "  </thead>\n",
       "  <tbody>\n",
       "    <tr>\n",
       "      <th>0</th>\n",
       "      <td>13050007</td>\n",
       "      <td>47.6572</td>\n",
       "      <td>-2.76339</td>\n",
       "    </tr>\n",
       "    <tr>\n",
       "      <th>1</th>\n",
       "      <td>13050008</td>\n",
       "      <td>48.1947</td>\n",
       "      <td>-3.98124</td>\n",
       "    </tr>\n",
       "    <tr>\n",
       "      <th>2</th>\n",
       "      <td>13050011</td>\n",
       "      <td>-34.0351</td>\n",
       "      <td>22.94220</td>\n",
       "    </tr>\n",
       "    <tr>\n",
       "      <th>3</th>\n",
       "      <td>13050014</td>\n",
       "      <td>47.4932</td>\n",
       "      <td>19.05360</td>\n",
       "    </tr>\n",
       "    <tr>\n",
       "      <th>4</th>\n",
       "      <td>13050019</td>\n",
       "      <td>52.3669</td>\n",
       "      <td>9.75010</td>\n",
       "    </tr>\n",
       "  </tbody>\n",
       "</table>\n",
       "</div>"
      ],
      "text/plain": [
       "         id      lat       lng\n",
       "0  13050007  47.6572  -2.76339\n",
       "1  13050008  48.1947  -3.98124\n",
       "2  13050011 -34.0351  22.94220\n",
       "3  13050014  47.4932  19.05360\n",
       "4  13050019  52.3669   9.75010"
      ]
     },
     "execution_count": 29,
     "metadata": {},
     "output_type": "execute_result"
    }
   ],
   "source": [
    "rentals[['id', 'lat', 'lng']].head()"
   ]
  },
  {
   "cell_type": "code",
   "execution_count": 30,
   "metadata": {
    "collapsed": true
   },
   "outputs": [],
   "source": [
    "def euclid_dist(lat1, lon1, lat2, lon2):\n",
    "    dist = np.sqrt((lon1 - lon2)**2 + (lat1 - lat2)**2)\n",
    "    return dist"
   ]
  },
  {
   "cell_type": "markdown",
   "metadata": {},
   "source": [
    "2) Calculate Orthodromic Distance: (Haversine Formula)  \n",
    "· londelta = lon2 - lon1  \n",
    "· latdelta = lat2 - lat1  \n",
    "· a = (sin(latdelta/2))^2 + cos(lat1) cos(lat2) (sin(londelta/2))^2  \n",
    "· c = 2 atan2( sqrt(a), sqrt(1-a) )  \n",
    "· d = R * c (where R is the radius of the Earth)  "
   ]
  },
  {
   "cell_type": "code",
   "execution_count": 31,
   "metadata": {
    "collapsed": true
   },
   "outputs": [],
   "source": [
    "def orthod_dist(lat1, lon1, lat2, lon2):\n",
    "    r = 6371.009 # radius in 'KM' \n",
    "    lat1 = math.radians(lat1)\n",
    "    lon1 = math.radians(lon1)\n",
    "    lat2 = math.radians(lat2)\n",
    "    lon2 = math.radians(lon2)\n",
    "    londelta = lon2 - lon1\n",
    "    latdelta = lat2- lat1\n",
    "    a = math.pow(math.sin(latdelta/float(2)), 2) + math.cos(lat1) * math.cos(lat2) * math.pow(math.sin(londelta/float(2)), 2)\n",
    "    c = 2 * math.atan2(math.sqrt(a), math.sqrt(1-a))\n",
    "    \n",
    "    return c * r"
   ]
  },
  {
   "cell_type": "markdown",
   "metadata": {},
   "source": [
    "**Compute the shortest distance: **"
   ]
  },
  {
   "cell_type": "code",
   "execution_count": 34,
   "metadata": {
    "collapsed": true
   },
   "outputs": [],
   "source": [
    "def shortest_dist(data, metric = 'euclidean'):\n",
    "    mindist = float('inf')\n",
    "    index1 = []\n",
    "    index2 = []\n",
    "    dist = 0\n",
    "    \n",
    "    for i in range(0, len(data) - 1):\n",
    "        lat1 = data.iloc[i]['lat']\n",
    "        lng1 = data.iloc[i]['lng']\n",
    "        for j in range(i + 1, len(data)):\n",
    "            lat2 = data.iloc[j]['lat']\n",
    "            lng2 = data.iloc[j]['lng']\n",
    "        if metric == 'euclidean':\n",
    "            dist = euclid_dist(lat1, lng1, lat2, lng2)\n",
    "        elif metric == 'orthodromic':\n",
    "            dist = orthod_dist(lat1, lng1, lat2, lng2)\n",
    "            \n",
    "        if dist < mindist:\n",
    "            mindist = dist\n",
    "            index1 = [i]\n",
    "            index2 = [j]\n",
    "        elif dist == mindist: # to save other points with the shortest distance\n",
    "            index1.append(i)\n",
    "            index2.append(j)\n",
    "    return {'mindist': mindist,\n",
    "            'index1': index1,\n",
    "            'index2': index2}"
   ]
  },
  {
   "cell_type": "markdown",
   "metadata": {},
   "source": [
    "(1) Eucildean Distance:"
   ]
  },
  {
   "cell_type": "code",
   "execution_count": 37,
   "metadata": {},
   "outputs": [
    {
     "name": "stdout",
     "output_type": "stream",
     "text": [
      "0.15525733477\n",
      "[865]\n",
      "[918]\n"
     ]
    }
   ],
   "source": [
    "res1 = shortest_dist(rentals)\n",
    "print res1['mindist']\n",
    "print res1['index1']\n",
    "print res1['index2']"
   ]
  },
  {
   "cell_type": "markdown",
   "metadata": {},
   "source": [
    "(2) Orthodromic Distance:"
   ]
  },
  {
   "cell_type": "code",
   "execution_count": 38,
   "metadata": {},
   "outputs": [
    {
     "name": "stdout",
     "output_type": "stream",
     "text": [
      "15.696634029\n",
      "[865]\n",
      "[918]\n"
     ]
    }
   ],
   "source": [
    "res2 = shortest_dist(rentals, metric = 'orthodromic')\n",
    "print res2['mindist']\n",
    "print res2['index1']\n",
    "print res2['index2']"
   ]
  },
  {
   "cell_type": "markdown",
   "metadata": {},
   "source": [
    "Implementing 'Orthodromic Distance' and 'Eucildean Distance' will give the same result. Listings '13052826' and '13052988' have the shortest euclidean distance (shown above)."
   ]
  },
  {
   "cell_type": "markdown",
   "metadata": {},
   "source": [
    "Listing 1:"
   ]
  },
  {
   "cell_type": "code",
   "execution_count": 39,
   "metadata": {},
   "outputs": [
    {
     "data": {
      "text/html": [
       "<div>\n",
       "<table border=\"1\" class=\"dataframe\">\n",
       "  <thead>\n",
       "    <tr style=\"text-align: right;\">\n",
       "      <th></th>\n",
       "      <th>id</th>\n",
       "      <th>bedrooms</th>\n",
       "      <th>bathrooms</th>\n",
       "      <th>city</th>\n",
       "      <th>country</th>\n",
       "      <th>is_location_exact</th>\n",
       "      <th>lat</th>\n",
       "      <th>lng</th>\n",
       "      <th>price</th>\n",
       "      <th>description</th>\n",
       "      <th>picture_urls</th>\n",
       "      <th>picture_captions</th>\n",
       "      <th>star_rating</th>\n",
       "      <th>recent_review</th>\n",
       "      <th>price_bedroom</th>\n",
       "    </tr>\n",
       "  </thead>\n",
       "  <tbody>\n",
       "    <tr>\n",
       "      <th>865</th>\n",
       "      <td>13052826</td>\n",
       "      <td>1</td>\n",
       "      <td>1.0</td>\n",
       "      <td>Piombino</td>\n",
       "      <td>Italy</td>\n",
       "      <td>False</td>\n",
       "      <td>42.9348</td>\n",
       "      <td>10.5188</td>\n",
       "      <td>33</td>\n",
       "      <td>Bright and large attic 10 min from the sea. Th...</td>\n",
       "      <td>[u'https://a0.muscache.com/im/pictures/db874ca...</td>\n",
       "      <td>[u'', u'', u'', u'', u'', u'', u'', u'']</td>\n",
       "      <td>4.5</td>\n",
       "      <td>{u'review': {u'listing_id': 13052826, u'review...</td>\n",
       "      <td>33.0</td>\n",
       "    </tr>\n",
       "  </tbody>\n",
       "</table>\n",
       "</div>"
      ],
      "text/plain": [
       "           id  bedrooms  bathrooms      city country is_location_exact  \\\n",
       "865  13052826         1        1.0  Piombino   Italy             False   \n",
       "\n",
       "         lat      lng  price  \\\n",
       "865  42.9348  10.5188     33   \n",
       "\n",
       "                                           description  \\\n",
       "865  Bright and large attic 10 min from the sea. Th...   \n",
       "\n",
       "                                          picture_urls  \\\n",
       "865  [u'https://a0.muscache.com/im/pictures/db874ca...   \n",
       "\n",
       "                             picture_captions  star_rating  \\\n",
       "865  [u'', u'', u'', u'', u'', u'', u'', u'']          4.5   \n",
       "\n",
       "                                         recent_review  price_bedroom  \n",
       "865  {u'review': {u'listing_id': 13052826, u'review...           33.0  "
      ]
     },
     "execution_count": 39,
     "metadata": {},
     "output_type": "execute_result"
    }
   ],
   "source": [
    "rentals.loc[res1['index1']]"
   ]
  },
  {
   "cell_type": "markdown",
   "metadata": {},
   "source": [
    "Listing 2:"
   ]
  },
  {
   "cell_type": "code",
   "execution_count": 40,
   "metadata": {},
   "outputs": [
    {
     "data": {
      "text/html": [
       "<div>\n",
       "<table border=\"1\" class=\"dataframe\">\n",
       "  <thead>\n",
       "    <tr style=\"text-align: right;\">\n",
       "      <th></th>\n",
       "      <th>id</th>\n",
       "      <th>bedrooms</th>\n",
       "      <th>bathrooms</th>\n",
       "      <th>city</th>\n",
       "      <th>country</th>\n",
       "      <th>is_location_exact</th>\n",
       "      <th>lat</th>\n",
       "      <th>lng</th>\n",
       "      <th>price</th>\n",
       "      <th>description</th>\n",
       "      <th>picture_urls</th>\n",
       "      <th>picture_captions</th>\n",
       "      <th>star_rating</th>\n",
       "      <th>recent_review</th>\n",
       "      <th>price_bedroom</th>\n",
       "    </tr>\n",
       "  </thead>\n",
       "  <tbody>\n",
       "    <tr>\n",
       "      <th>918</th>\n",
       "      <td>13052988</td>\n",
       "      <td>1</td>\n",
       "      <td>1.0</td>\n",
       "      <td>Rio Marina</td>\n",
       "      <td>Italy</td>\n",
       "      <td>False</td>\n",
       "      <td>42.812</td>\n",
       "      <td>10.4238</td>\n",
       "      <td>60</td>\n",
       "      <td>Appartamento in villetta al primo piano con gr...</td>\n",
       "      <td>[u'https://a0.muscache.com/im/pictures/8672891...</td>\n",
       "      <td>[u'', u'', u'', u'', u'', u'', u'']</td>\n",
       "      <td>-1.0</td>\n",
       "      <td>-1</td>\n",
       "      <td>60.0</td>\n",
       "    </tr>\n",
       "  </tbody>\n",
       "</table>\n",
       "</div>"
      ],
      "text/plain": [
       "           id  bedrooms  bathrooms        city country is_location_exact  \\\n",
       "918  13052988         1        1.0  Rio Marina   Italy             False   \n",
       "\n",
       "        lat      lng  price  \\\n",
       "918  42.812  10.4238     60   \n",
       "\n",
       "                                           description  \\\n",
       "918  Appartamento in villetta al primo piano con gr...   \n",
       "\n",
       "                                          picture_urls  \\\n",
       "918  [u'https://a0.muscache.com/im/pictures/8672891...   \n",
       "\n",
       "                        picture_captions  star_rating recent_review  \\\n",
       "918  [u'', u'', u'', u'', u'', u'', u'']         -1.0            -1   \n",
       "\n",
       "     price_bedroom  \n",
       "918           60.0  "
      ]
     },
     "execution_count": 40,
     "metadata": {},
     "output_type": "execute_result"
    }
   ],
   "source": [
    "rentals.loc[res1['index2']]"
   ]
  },
  {
   "cell_type": "markdown",
   "metadata": {},
   "source": [
    "### Q4: Visualize all US listings on a map"
   ]
  },
  {
   "cell_type": "code",
   "execution_count": 8,
   "metadata": {
    "collapsed": true
   },
   "outputs": [],
   "source": [
    "import plotly\n",
    "from plotly.graph_objs import *\n",
    "import matplotlib.pyplot as plt\n",
    "%matplotlib inline"
   ]
  },
  {
   "cell_type": "markdown",
   "metadata": {},
   "source": [
    "#### Plot an interactive map with ploty:"
   ]
  },
  {
   "cell_type": "code",
   "execution_count": 7,
   "metadata": {
    "collapsed": true
   },
   "outputs": [],
   "source": [
    "lons = rentals[rentals['country'] == 'United States']['lng'].values\n",
    "lats = rentals[rentals['country'] == 'United States']['lat'].values\n",
    "ids = rentals[rentals['country'] == 'United States']['id'].values"
   ]
  },
  {
   "cell_type": "markdown",
   "metadata": {},
   "source": [
    "Get access to the interactive visualization package 'ploty' and 'mapbox':"
   ]
  },
  {
   "cell_type": "code",
   "execution_count": 9,
   "metadata": {
    "collapsed": true
   },
   "outputs": [],
   "source": [
    "plotly.tools.set_credentials_file(username = 'shuheicopter', api_key = 'y5fSij1Qi69qazJNJYpJ')\n",
    "mapbox_access_token = 'pk.eyJ1Ijoic2h1aGVsaWNvcHRlciIsImEiOiJjajVoYnphcmoxMTlyMzZvMWZoczd1bm5hIn0.VlZsKHke_Tywbc_I8p_Hew'"
   ]
  },
  {
   "cell_type": "markdown",
   "metadata": {},
   "source": [
    "Visualize the data points:"
   ]
  },
  {
   "cell_type": "code",
   "execution_count": 10,
   "metadata": {},
   "outputs": [
    {
     "data": {
      "text/html": [
       "<iframe id=\"igraph\" scrolling=\"no\" style=\"border:none;\" seamless=\"seamless\" src=\"https://plot.ly/~shuheicopter/3.embed\" height=\"525px\" width=\"100%\"></iframe>"
      ],
      "text/plain": [
       "<plotly.tools.PlotlyDisplay object>"
      ]
     },
     "execution_count": 10,
     "metadata": {},
     "output_type": "execute_result"
    }
   ],
   "source": [
    "data = Data([\n",
    "    Scattermapbox(\n",
    "        lat = lats,\n",
    "        lon = lons,\n",
    "        mode = 'markers',\n",
    "        marker = Marker(\n",
    "                size = 9,\n",
    "                color = 'red'\n",
    "        ),\n",
    "        text = ids,\n",
    "    )\n",
    "])\n",
    "layout = Layout(\n",
    "    autosize = True,\n",
    "    hovermode = 'closest',\n",
    "    mapbox= dict(\n",
    "        accesstoken = mapbox_access_token,\n",
    "        bearing = 0,\n",
    "        center = dict( # set a center of the visualized \n",
    "            lat = 39.00,\n",
    "            lon = -106.00\n",
    "        ),\n",
    "        pitch = 0,\n",
    "        zoom = 3\n",
    "    ),\n",
    ")\n",
    "\n",
    "fig = dict(data = data, layout = layout)\n",
    "plotly.plotly.iplot(fig, filename = 'Rental Listings Map in US')"
   ]
  },
  {
   "cell_type": "markdown",
   "metadata": {},
   "source": [
    "This is an interactive map. You can click on the points to check the listing id. Also, you can zoom out or zoom in to know more details about the apartment's surronding."
   ]
  },
  {
   "cell_type": "markdown",
   "metadata": {},
   "source": [
    "#### Plot a static map with Basemap: (An alternative)  \n",
    "Installing tutorial is available here: https://matplotlib.org/basemap/users/installing.html"
   ]
  },
  {
   "cell_type": "code",
   "execution_count": null,
   "metadata": {
    "collapsed": true
   },
   "outputs": [],
   "source": [
    "from mpl_toolkits.basemap import Basemap\n",
    "\n",
    "def geo_price(color, label):\n",
    "    fig = plt.figure(figsize = (50,50))\n",
    "    m = Basemap(projection = 'mill',\\\n",
    "                llcrnrlat = 23.288, urcrnrlat = 51.23,\\\n",
    "                llcrnrlon = -131.20,urcrnrlon = -67.219,\\\n",
    "                resolution = 'h')\n",
    "    m.drawcoastlines()\n",
    "    m.drawstates()\n",
    "    m.drawcountries()\n",
    "    m.drawmapboundary()\n",
    "    m.fillcontinents(lake_color =' #FFFFFF')\n",
    "\n",
    "    lon = lons\n",
    "    lat = lats\n",
    "    x, y = m(lon, lat)\n",
    "    ax = fig.add_subplot(1,1,1)\n",
    "    ax = m.plot(x, y, color, markersize = 20, alpha = 1, label = label)\n",
    "\n",
    "    plt.title('Rental Listings Map in US')\n",
    "    plt.legend(loc = 'upper left')\n",
    "    plt.show()\n",
    "    \n",
    "geo_price('ro', 'low')"
   ]
  },
  {
   "cell_type": "markdown",
   "metadata": {},
   "source": [
    "### Q5: Find out the total number of active listings"
   ]
  },
  {
   "cell_type": "code",
   "execution_count": 59,
   "metadata": {
    "collapsed": true
   },
   "outputs": [],
   "source": [
    "import requests # request from the sever \n",
    "import random # random number of seconds \n",
    "import time # the sleep time"
   ]
  },
  {
   "cell_type": "markdown",
   "metadata": {},
   "source": [
    "The estimated average time is about 10 mins. To scrape data politely, I use a little bit longer time here bewteen two requests. In practice, this process really depends on the security policy of the target websites. If you want to make it faster, you can adjust the length of sleeping time and you could process the scraping through multiple IP agencies."
   ]
  },
  {
   "cell_type": "code",
   "execution_count": null,
   "metadata": {
    "collapsed": true
   },
   "outputs": [],
   "source": [
    "active = [None] * len(rentals)\n",
    "for i in xrange(len(rentals)):\n",
    "    url = 'https://www.airbnb.com/rooms/' + str(rentals.iloc[i]['id'])\n",
    "    \n",
    "    # try not to be blocked by changing the sleep time \n",
    "    if i % 10 == 0:\n",
    "        sleep_time = random.randint(1, 3) # random time between 1s and 3s \n",
    "    else:\n",
    "        sleep_time = random.randint(1, 4) / float(10) # random time between 0.1s and 0.4s (0, 10)\n",
    "    time.sleep(sleep_time)  # be nice when scraping\n",
    "    \n",
    "    resp = requests.get(url)\n",
    "    if resp.status_code == 200 and resp.url == url:\n",
    "        active[i] = True\n",
    "    elif resp.status_code == 503: # intensive requests result in being blocked by the target website\n",
    "        active[i] = None\n",
    "        print 'The %d responses 503.' % i\n",
    "    else:\n",
    "        active[i] = False"
   ]
  },
  {
   "cell_type": "code",
   "execution_count": 840,
   "metadata": {
    "collapsed": true
   },
   "outputs": [],
   "source": [
    "rentals['active'] = active # add this new feature to the original dataframe"
   ]
  },
  {
   "cell_type": "code",
   "execution_count": 841,
   "metadata": {},
   "outputs": [
    {
     "name": "stdout",
     "output_type": "stream",
     "text": [
      "The number of active listing now:  787\n"
     ]
    }
   ],
   "source": [
    "print 'The number of active listing now: ', sum(rentals['active'] == True)"
   ]
  },
  {
   "cell_type": "markdown",
   "metadata": {},
   "source": [
    "# Part 3 - Natural Language Processing"
   ]
  },
  {
   "cell_type": "code",
   "execution_count": 61,
   "metadata": {
    "collapsed": true
   },
   "outputs": [],
   "source": [
    "import re # regular expression for text analysis\n",
    "import string # string operation for text analysis\n",
    "from sklearn.feature_extraction.text import TfidfVectorizer # tfidf for natural language processing"
   ]
  },
  {
   "cell_type": "markdown",
   "metadata": {},
   "source": [
    "Check te basic inforamtion of the dependent variable 'star_rating':"
   ]
  },
  {
   "cell_type": "code",
   "execution_count": 842,
   "metadata": {},
   "outputs": [
    {
     "data": {
      "text/plain": [
       "array([ 4.5, -1. ,  5. ,  3.5,  4. ,  2.5])"
      ]
     },
     "execution_count": 842,
     "metadata": {},
     "output_type": "execute_result"
    }
   ],
   "source": [
    "rentals['star_rating'].unique()"
   ]
  },
  {
   "cell_type": "code",
   "execution_count": 843,
   "metadata": {},
   "outputs": [
    {
     "data": {
      "text/plain": [
       "-1.0    524\n",
       " 5.0    208\n",
       " 4.5    158\n",
       " 4.0     16\n",
       " 3.5     12\n",
       " 2.5      1\n",
       "Name: star_rating, dtype: int64"
      ]
     },
     "execution_count": 843,
     "metadata": {},
     "output_type": "execute_result"
    }
   ],
   "source": [
    "rentals['star_rating'].value_counts()"
   ]
  },
  {
   "cell_type": "markdown",
   "metadata": {},
   "source": [
    "To better implement the classification model, we bucket the 'star_rating'(0~5) into two rating levels, namely perfect (208) and Not Perfect (187) based on the distribution of rating value in this dataset. 'Perfect'is x = 5, and 'Not Perfect' is 0 <= x <= 4.5. Also, it can provide a balanced data in label 'star_rating'.  If we have a much larger dataset, we could choose different threshold value to bucket this feature. This step highly depends on the dataset we use in practice.  \n",
    "  \n",
    "In the feature 'star_rating', there is too much (524/920 ~= 56.96%) missing value. Missing value in dependent variable is most harmful to modeling. In general, we prefer deleting those observations. However, we use an alternative solution to deal with the missing value becasue its percentage is very high. We consider the missing value -1 in 'star_rating' as a new category.  "
   ]
  },
  {
   "cell_type": "code",
   "execution_count": 844,
   "metadata": {
    "collapsed": true
   },
   "outputs": [],
   "source": [
    "rentals['star_rating'] = rentals['star_rating'].apply(lambda x: 1 if x == 5 else 2 if x == -1 else 0)"
   ]
  },
  {
   "cell_type": "markdown",
   "metadata": {},
   "source": [
    "### Features Engineering:"
   ]
  },
  {
   "cell_type": "markdown",
   "metadata": {},
   "source": [
    "**1) Numerical Feature:** bedrooms, bathrooms, lat, lng, price, star_rating  \n",
    "**2) Categorical Feature:** id, city, country, is_location_exact  \n",
    "**3) Image Feature:** picture_urls  \n",
    "**4) Text Feature:** description, picture_captions, recent_review  \n",
    "  \n",
    "'-1' in the dataset represents missing value.   "
   ]
  },
  {
   "cell_type": "markdown",
   "metadata": {},
   "source": [
    "#### 1) Numerical features processing:"
   ]
  },
  {
   "cell_type": "code",
   "execution_count": 845,
   "metadata": {},
   "outputs": [
    {
     "data": {
      "text/plain": [
       "1     448\n",
       "2     237\n",
       "3      99\n",
       "4      57\n",
       "0      52\n",
       "5      19\n",
       "6       5\n",
       "10      1\n",
       "8       1\n",
       "Name: bedrooms, dtype: int64"
      ]
     },
     "execution_count": 845,
     "metadata": {},
     "output_type": "execute_result"
    }
   ],
   "source": [
    "rentals['bedrooms'].value_counts()"
   ]
  },
  {
   "cell_type": "markdown",
   "metadata": {},
   "source": [
    "Two new features for observations of no bedroom or too many bedrooms:"
   ]
  },
  {
   "cell_type": "code",
   "execution_count": 846,
   "metadata": {
    "collapsed": true
   },
   "outputs": [],
   "source": [
    "rentals['no_bedroom'] = rentals['bedrooms'].apply(lambda x: 1 if x == 0 else 0) \n",
    "rentals['more_than_5_bedroom'] = rentals['bedrooms'].apply(lambda x: 1 if x >= 5 else 0)"
   ]
  },
  {
   "cell_type": "markdown",
   "metadata": {},
   "source": [
    "Denominator should not be 0, so we assign a small value to 0 in 'bedrooms' and 'bathrooms':"
   ]
  },
  {
   "cell_type": "code",
   "execution_count": 847,
   "metadata": {
    "collapsed": true
   },
   "outputs": [],
   "source": [
    "rentals['bedrooms'] = rentals['bedrooms'].apply(lambda x: 1 if x == 0 else x) # give 1 to 0 in bedroom\n",
    "rentals['bathrooms'] = rentals['bathrooms'].apply(lambda x: 1 if x == 0 else x) # give 1 to 0 in bedroom"
   ]
  },
  {
   "cell_type": "markdown",
   "metadata": {},
   "source": [
    "Price per bathroom:"
   ]
  },
  {
   "cell_type": "code",
   "execution_count": 849,
   "metadata": {
    "collapsed": true
   },
   "outputs": [],
   "source": [
    "rentals['price_bathroom'] = rentals['price'] / rentals['bathrooms']"
   ]
  },
  {
   "cell_type": "markdown",
   "metadata": {},
   "source": [
    "Price per bedroom:"
   ]
  },
  {
   "cell_type": "code",
   "execution_count": 850,
   "metadata": {
    "collapsed": true
   },
   "outputs": [],
   "source": [
    "rentals['price_bedroom'] = rentals['price'] / rentals['bedrooms']"
   ]
  },
  {
   "cell_type": "markdown",
   "metadata": {},
   "source": [
    "The ratio of bathroom to bedroom:"
   ]
  },
  {
   "cell_type": "code",
   "execution_count": 851,
   "metadata": {
    "collapsed": true
   },
   "outputs": [],
   "source": [
    "rentals['bath_bed_ratio'] = rentals['bathrooms'] / rentals['bedrooms']"
   ]
  },
  {
   "cell_type": "markdown",
   "metadata": {},
   "source": [
    "#### 2) One hot encoding for categorical features:  \n",
    "'is_location_exact' is converted to 0-1. 'city' and 'country' should be transformed into one hot. However, the sample dataset is very small and it can not provide enough information to explore influence of different cities, so we only transform 'country' with one hot encoding. The feature 'City' will not be used in this modeling."
   ]
  },
  {
   "cell_type": "code",
   "execution_count": 853,
   "metadata": {
    "collapsed": true
   },
   "outputs": [],
   "source": [
    "rentals['is_location_exact'] = rentals['is_location_exact'].apply(lambda x: 1 if x else 0)"
   ]
  },
  {
   "cell_type": "code",
   "execution_count": 854,
   "metadata": {
    "collapsed": true
   },
   "outputs": [],
   "source": [
    "rentals['active'] = rentals['active'].apply(lambda x: 1 if x else 0)"
   ]
  },
  {
   "cell_type": "code",
   "execution_count": 855,
   "metadata": {},
   "outputs": [
    {
     "data": {
      "text/html": [
       "<div>\n",
       "<table border=\"1\" class=\"dataframe\">\n",
       "  <thead>\n",
       "    <tr style=\"text-align: right;\">\n",
       "      <th></th>\n",
       "      <th>id</th>\n",
       "      <th>bedrooms</th>\n",
       "      <th>bathrooms</th>\n",
       "      <th>city</th>\n",
       "      <th>country</th>\n",
       "      <th>is_location_exact</th>\n",
       "      <th>lat</th>\n",
       "      <th>lng</th>\n",
       "      <th>price</th>\n",
       "      <th>description</th>\n",
       "      <th>...</th>\n",
       "      <th>Tunisia</th>\n",
       "      <th>Turkey</th>\n",
       "      <th>Ukraine</th>\n",
       "      <th>United Arab Emirates</th>\n",
       "      <th>United Kingdom</th>\n",
       "      <th>United States</th>\n",
       "      <th>Uruguay</th>\n",
       "      <th>Uzbekistan</th>\n",
       "      <th>Vietnam</th>\n",
       "      <th>Zimbabwe</th>\n",
       "    </tr>\n",
       "  </thead>\n",
       "  <tbody>\n",
       "    <tr>\n",
       "      <th>0</th>\n",
       "      <td>13050007</td>\n",
       "      <td>1</td>\n",
       "      <td>1.0</td>\n",
       "      <td>Vannes</td>\n",
       "      <td>France</td>\n",
       "      <td>1</td>\n",
       "      <td>47.6572</td>\n",
       "      <td>-2.76339</td>\n",
       "      <td>46</td>\n",
       "      <td>-1</td>\n",
       "      <td>...</td>\n",
       "      <td>0.0</td>\n",
       "      <td>0.0</td>\n",
       "      <td>0.0</td>\n",
       "      <td>0.0</td>\n",
       "      <td>0.0</td>\n",
       "      <td>0.0</td>\n",
       "      <td>0.0</td>\n",
       "      <td>0.0</td>\n",
       "      <td>0.0</td>\n",
       "      <td>0.0</td>\n",
       "    </tr>\n",
       "    <tr>\n",
       "      <th>1</th>\n",
       "      <td>13050008</td>\n",
       "      <td>1</td>\n",
       "      <td>1.0</td>\n",
       "      <td>Pleyben</td>\n",
       "      <td>France</td>\n",
       "      <td>1</td>\n",
       "      <td>48.1947</td>\n",
       "      <td>-3.98124</td>\n",
       "      <td>76</td>\n",
       "      <td>-1</td>\n",
       "      <td>...</td>\n",
       "      <td>0.0</td>\n",
       "      <td>0.0</td>\n",
       "      <td>0.0</td>\n",
       "      <td>0.0</td>\n",
       "      <td>0.0</td>\n",
       "      <td>0.0</td>\n",
       "      <td>0.0</td>\n",
       "      <td>0.0</td>\n",
       "      <td>0.0</td>\n",
       "      <td>0.0</td>\n",
       "    </tr>\n",
       "    <tr>\n",
       "      <th>2</th>\n",
       "      <td>13050011</td>\n",
       "      <td>1</td>\n",
       "      <td>1.5</td>\n",
       "      <td>Buffels Bay</td>\n",
       "      <td>South Africa</td>\n",
       "      <td>0</td>\n",
       "      <td>-34.0351</td>\n",
       "      <td>22.94220</td>\n",
       "      <td>28</td>\n",
       "      <td>My place is good for couples, solo adventurers...</td>\n",
       "      <td>...</td>\n",
       "      <td>0.0</td>\n",
       "      <td>0.0</td>\n",
       "      <td>0.0</td>\n",
       "      <td>0.0</td>\n",
       "      <td>0.0</td>\n",
       "      <td>0.0</td>\n",
       "      <td>0.0</td>\n",
       "      <td>0.0</td>\n",
       "      <td>0.0</td>\n",
       "      <td>0.0</td>\n",
       "    </tr>\n",
       "    <tr>\n",
       "      <th>3</th>\n",
       "      <td>13050014</td>\n",
       "      <td>2</td>\n",
       "      <td>1.5</td>\n",
       "      <td>Budapest</td>\n",
       "      <td>Hungary</td>\n",
       "      <td>1</td>\n",
       "      <td>47.4932</td>\n",
       "      <td>19.05360</td>\n",
       "      <td>31</td>\n",
       "      <td>-1</td>\n",
       "      <td>...</td>\n",
       "      <td>0.0</td>\n",
       "      <td>0.0</td>\n",
       "      <td>0.0</td>\n",
       "      <td>0.0</td>\n",
       "      <td>0.0</td>\n",
       "      <td>0.0</td>\n",
       "      <td>0.0</td>\n",
       "      <td>0.0</td>\n",
       "      <td>0.0</td>\n",
       "      <td>0.0</td>\n",
       "    </tr>\n",
       "    <tr>\n",
       "      <th>4</th>\n",
       "      <td>13050019</td>\n",
       "      <td>2</td>\n",
       "      <td>1.0</td>\n",
       "      <td>Hannover</td>\n",
       "      <td>Germany</td>\n",
       "      <td>1</td>\n",
       "      <td>52.3669</td>\n",
       "      <td>9.75010</td>\n",
       "      <td>131</td>\n",
       "      <td>-1</td>\n",
       "      <td>...</td>\n",
       "      <td>0.0</td>\n",
       "      <td>0.0</td>\n",
       "      <td>0.0</td>\n",
       "      <td>0.0</td>\n",
       "      <td>0.0</td>\n",
       "      <td>0.0</td>\n",
       "      <td>0.0</td>\n",
       "      <td>0.0</td>\n",
       "      <td>0.0</td>\n",
       "      <td>0.0</td>\n",
       "    </tr>\n",
       "  </tbody>\n",
       "</table>\n",
       "<p>5 rows × 103 columns</p>\n",
       "</div>"
      ],
      "text/plain": [
       "         id  bedrooms  bathrooms         city       country  \\\n",
       "0  13050007         1        1.0       Vannes        France   \n",
       "1  13050008         1        1.0      Pleyben        France   \n",
       "2  13050011         1        1.5  Buffels Bay  South Africa   \n",
       "3  13050014         2        1.5     Budapest       Hungary   \n",
       "4  13050019         2        1.0     Hannover       Germany   \n",
       "\n",
       "   is_location_exact      lat       lng  price  \\\n",
       "0                  1  47.6572  -2.76339     46   \n",
       "1                  1  48.1947  -3.98124     76   \n",
       "2                  0 -34.0351  22.94220     28   \n",
       "3                  1  47.4932  19.05360     31   \n",
       "4                  1  52.3669   9.75010    131   \n",
       "\n",
       "                                         description    ...    Tunisia Turkey  \\\n",
       "0                                                 -1    ...        0.0    0.0   \n",
       "1                                                 -1    ...        0.0    0.0   \n",
       "2  My place is good for couples, solo adventurers...    ...        0.0    0.0   \n",
       "3                                                 -1    ...        0.0    0.0   \n",
       "4                                                 -1    ...        0.0    0.0   \n",
       "\n",
       "   Ukraine United Arab Emirates  United Kingdom  United States  Uruguay  \\\n",
       "0      0.0                  0.0             0.0            0.0      0.0   \n",
       "1      0.0                  0.0             0.0            0.0      0.0   \n",
       "2      0.0                  0.0             0.0            0.0      0.0   \n",
       "3      0.0                  0.0             0.0            0.0      0.0   \n",
       "4      0.0                  0.0             0.0            0.0      0.0   \n",
       "\n",
       "   Uzbekistan  Vietnam  Zimbabwe  \n",
       "0         0.0      0.0       0.0  \n",
       "1         0.0      0.0       0.0  \n",
       "2         0.0      0.0       0.0  \n",
       "3         0.0      0.0       0.0  \n",
       "4         0.0      0.0       0.0  \n",
       "\n",
       "[5 rows x 103 columns]"
      ]
     },
     "execution_count": 855,
     "metadata": {},
     "output_type": "execute_result"
    }
   ],
   "source": [
    "country_new = pd.get_dummies(rentals['country'])\n",
    "pd.concat([rentals, country_new], axis = 1).head()"
   ]
  },
  {
   "cell_type": "markdown",
   "metadata": {},
   "source": [
    "#### 3) Image features engineering:"
   ]
  },
  {
   "cell_type": "markdown",
   "metadata": {},
   "source": [
    "The number of pictures:"
   ]
  },
  {
   "cell_type": "code",
   "execution_count": 856,
   "metadata": {
    "collapsed": true
   },
   "outputs": [],
   "source": [
    "rentals['num_pics'] = rentals['picture_urls'].apply(lambda x: len(x.split(', '))) "
   ]
  },
  {
   "cell_type": "markdown",
   "metadata": {},
   "source": [
    "The number captions for pictures:"
   ]
  },
  {
   "cell_type": "code",
   "execution_count": 857,
   "metadata": {
    "collapsed": true
   },
   "outputs": [],
   "source": [
    "def num_nonempty(string): # the number of non-empty captions for pictures\n",
    "    total_num = len(string.split('\\', ')) # the total number of elements\n",
    "    nonempty_num = len(re.findall('u\\'\\'', string)) # the number of non-empty elements\n",
    "    return total_num - nonempty_num"
   ]
  },
  {
   "cell_type": "code",
   "execution_count": 858,
   "metadata": {
    "collapsed": true
   },
   "outputs": [],
   "source": [
    "rentals['num_pic_caps'] = rentals['picture_captions'].apply(lambda x: num_nonempty(x))"
   ]
  },
  {
   "cell_type": "markdown",
   "metadata": {},
   "source": [
    "#### 4) Text features engineering:"
   ]
  },
  {
   "cell_type": "markdown",
   "metadata": {},
   "source": [
    "Intuition tells us that 'recent_review' and 'description' play vital roles in 'star_rating'. However, lots of 'recent_review' and 'description' are in foreign language. \n",
    "  \n",
    "Take the listing '13050007' as an example, it's in French, so it's meaningless to use English grammer to analyze it:  \n",
    "'... dans le centre ville,proche du port,de la gare maritime et du centre historique ...'   \n",
    "  \n",
    "For example, the description of listing '13052988' is in Italian:  \n",
    "'Appartamento in villetta al primo piano con grande terrazzo vista mare , camera con letto matrimoniale + lettino singolo apribile, soggiorno con divano letto matrimoniale e lettini singolo apribile. Cucina abitabile, posto auto ,'"
   ]
  },
  {
   "cell_type": "markdown",
   "metadata": {},
   "source": [
    "Even though the language is not consistent in these two features, I implmented a general method to handle the data: **TF-IDF**. Comparing to the raw word count, we should focus more on rare words that don't happen in every text. TF-IDF (term frequency–inverse document frequency) is a good feature representation that penalizes words that are too common."
   ]
  },
  {
   "cell_type": "markdown",
   "metadata": {},
   "source": [
    "##### 4.1) Recent_review"
   ]
  },
  {
   "cell_type": "markdown",
   "metadata": {},
   "source": [
    "'recent_review' has differents kinds of information about the review such as reviewer id, review id, comments, and created time. Therefore, I define the following function 'extract_info' to extract information separately in 'recent_review'. We need to know start and end keywords to locate the information we want to extract."
   ]
  },
  {
   "cell_type": "code",
   "execution_count": 859,
   "metadata": {
    "collapsed": true
   },
   "outputs": [],
   "source": [
    "def extract_info(review, start_keywords, end_keywords):\n",
    "    len_search = len(start_keywords) # length of the searching word\n",
    "    start = review.find(start_keywords) + len_search # start index of comments\n",
    "    end = review.find(end_keywords) # end index of comments\n",
    "    return review[start:end]"
   ]
  },
  {
   "cell_type": "markdown",
   "metadata": {},
   "source": [
    "Checkpoints  \n",
    "Extract comments:"
   ]
  },
  {
   "cell_type": "code",
   "execution_count": 860,
   "metadata": {},
   "outputs": [
    {
     "name": "stdout",
     "output_type": "stream",
     "text": [
      "\"This flat is amazing. It's close to market and Vaci street, there are few supermarket nearby, plus Danube river is so near!!\\nThe view from top floor is gorgeous, a functional kitchen and a big big shower. Everything is so nice=)\"\n"
     ]
    }
   ],
   "source": [
    "test_review = rentals.iloc[3]['recent_review']\n",
    "comment_start_keywords = 'u\\'comments\\': u'\n",
    "comment_end_keywords = ', u\\'reviewer\\':'\n",
    "comment = extract_info(test_review, comment_start_keywords, comment_end_keywords)\n",
    "print comment"
   ]
  },
  {
   "cell_type": "markdown",
   "metadata": {},
   "source": [
    "Extract reviews created time:"
   ]
  },
  {
   "cell_type": "code",
   "execution_count": 861,
   "metadata": {},
   "outputs": [
    {
     "name": "stdout",
     "output_type": "stream",
     "text": [
      "2017-04-30T06:45:50Z\n"
     ]
    }
   ],
   "source": [
    "time_start_keywords = 'u\\'created_at\\': u\\''\n",
    "time_end_keywords = '\\', u\\'comments\\':'\n",
    "lastest_com_time = extract_info(test_sentence, time_start_keywords, time_end_keywords)\n",
    "print lastest_com_time"
   ]
  },
  {
   "cell_type": "markdown",
   "metadata": {},
   "source": [
    "**Extract information 'comments' and 'created_time': **"
   ]
  },
  {
   "cell_type": "code",
   "execution_count": 862,
   "metadata": {
    "collapsed": true
   },
   "outputs": [],
   "source": [
    "rentals['recent_comment'] = rentals['recent_review'].apply(lambda x: extract_info(x, comment_start_keywords, comment_end_keywords))[1:-1]\n",
    "rentals['latest_com_time'] = rentals['recent_review'].apply(lambda x: extract_info(x, time_start_keywords, time_end_keywords))"
   ]
  },
  {
   "cell_type": "markdown",
   "metadata": {},
   "source": [
    "First, remove punctuation of raw text:  "
   ]
  },
  {
   "cell_type": "code",
   "execution_count": 863,
   "metadata": {
    "collapsed": true
   },
   "outputs": [],
   "source": [
    "def remove_punctuation(text):\n",
    "    if isinstance(text, str):\n",
    "        return text.translate(None, string.punctuation)\n",
    "    else:\n",
    "        return ''"
   ]
  },
  {
   "cell_type": "code",
   "execution_count": 864,
   "metadata": {
    "collapsed": true
   },
   "outputs": [],
   "source": [
    "review_text = rentals['recent_comment'].apply(lambda x: remove_punctuation(x))"
   ]
  },
  {
   "cell_type": "markdown",
   "metadata": {},
   "source": [
    "In comments, there are some confusing words, such as '\\xe6' ('\\x..' is a 3-digit non-English word like German) and '\\u34f3'('\\u....' is a 5-digit Chinese word). This makes the natural language processing much more difficult. It's feasible to handle data like '\\xe6', because they are space-sparated like English. However, as for Chinese word '\\u34f3', they have no space between words, so it's very difficult to clean."
   ]
  },
  {
   "cell_type": "markdown",
   "metadata": {},
   "source": [
    "Second, Tf-idf for comments:"
   ]
  },
  {
   "cell_type": "code",
   "execution_count": 865,
   "metadata": {
    "collapsed": true
   },
   "outputs": [],
   "source": [
    "tfidf_rev = TfidfVectorizer(norm = 'l2',min_df = 0, use_idf = True, smooth_idf = False, sublinear_tf =True)  \n",
    "review_fit = tfidf_rev.fit(review_text)  \n",
    "review_transform = review_fit.transform(review_text)\n",
    "tfidf = review_transform.toarray()"
   ]
  },
  {
   "cell_type": "code",
   "execution_count": 866,
   "metadata": {
    "collapsed": true
   },
   "outputs": [],
   "source": [
    "d = dict(zip(review_fit.vocabulary_.keys(), map(sum,zip(*tfidf))))\n",
    "word_index = dict(zip(review_fit.vocabulary_.keys(), review_fit.vocabulary_.values()))"
   ]
  },
  {
   "cell_type": "markdown",
   "metadata": {},
   "source": [
    "Get te top 100 words:"
   ]
  },
  {
   "cell_type": "code",
   "execution_count": 867,
   "metadata": {
    "collapsed": true
   },
   "outputs": [],
   "source": [
    "col = {}\n",
    "top_100 = sorted(d.items(), lambda x, y: cmp(x[1], y[1]), reverse = True)[0:100]\n",
    "for word in top_100:\n",
    "    col[word[0] + '_tfidf'] = tfidf[:, word_index[word[0]]]"
   ]
  },
  {
   "cell_type": "markdown",
   "metadata": {},
   "source": [
    "The final TFIDF vector of every comment as a dataframe:"
   ]
  },
  {
   "cell_type": "code",
   "execution_count": 868,
   "metadata": {},
   "outputs": [
    {
     "data": {
      "text/plain": [
       "(919, 100)"
      ]
     },
     "execution_count": 868,
     "metadata": {},
     "output_type": "execute_result"
    }
   ],
   "source": [
    "col_df.shape"
   ]
  },
  {
   "cell_type": "code",
   "execution_count": 869,
   "metadata": {
    "collapsed": true
   },
   "outputs": [],
   "source": [
    "col_df = pd.DataFrame(col)"
   ]
  },
  {
   "cell_type": "markdown",
   "metadata": {},
   "source": [
    "##### 4.2) Description "
   ]
  },
  {
   "cell_type": "markdown",
   "metadata": {},
   "source": [
    "Check the total number of words of description. (This may reflect how much the host cares about this listing.)"
   ]
  },
  {
   "cell_type": "code",
   "execution_count": 870,
   "metadata": {
    "collapsed": true
   },
   "outputs": [],
   "source": [
    "rentals['num_desc_words'] = rentals['description'].apply(lambda x: len(x.split(' ')) if x != '-1' else 0)"
   ]
  },
  {
   "cell_type": "markdown",
   "metadata": {},
   "source": [
    "Tf-idf for description, the method is same with 'comments':"
   ]
  },
  {
   "cell_type": "code",
   "execution_count": 871,
   "metadata": {
    "collapsed": true
   },
   "outputs": [],
   "source": [
    "des = rentals['description'].values\n",
    "tfidfdesc = TfidfVectorizer(norm = 'l2',min_df = 0, use_idf = True, smooth_idf = False, sublinear_tf = True)  \n",
    "review_fit_des = tfidfdesc.fit(des)  \n",
    "review_transform_des = review_fit_des.transform(des)\n",
    "tfidf_des = review_transform_des.toarray()"
   ]
  },
  {
   "cell_type": "code",
   "execution_count": 872,
   "metadata": {
    "collapsed": true
   },
   "outputs": [],
   "source": [
    "d_des = dict(zip(review_fit_des.vocabulary_.keys(), map(sum,zip(*tfidf_des))))\n",
    "word_index_des = dict(zip(review_fit_des.vocabulary_.keys(), review_fit_des.vocabulary_.values()))\n",
    "col_des = {}\n",
    "top_100_des = sorted(d_des.items(), lambda x, y: cmp(x[1], y[1]), reverse=True)[0:100]\n",
    "for word in top_100_des:\n",
    "    col_des[word[0] + '_tfidf'] = tfidf_des[:, word_index_des[word[0]]]"
   ]
  },
  {
   "cell_type": "markdown",
   "metadata": {},
   "source": [
    "The final TFIDF vector of every description as a dataframe:"
   ]
  },
  {
   "cell_type": "code",
   "execution_count": 873,
   "metadata": {},
   "outputs": [
    {
     "data": {
      "text/plain": [
       "(919, 100)"
      ]
     },
     "execution_count": 873,
     "metadata": {},
     "output_type": "execute_result"
    }
   ],
   "source": [
    "col_df_des.shape"
   ]
  },
  {
   "cell_type": "code",
   "execution_count": 874,
   "metadata": {
    "collapsed": true
   },
   "outputs": [],
   "source": [
    "col_df_des = pd.DataFrame(col_des) # the data"
   ]
  },
  {
   "cell_type": "markdown",
   "metadata": {},
   "source": [
    "#### 5) Select final features for training and dealing with missing value:"
   ]
  },
  {
   "cell_type": "markdown",
   "metadata": {},
   "source": [
    "Fill out missing value with np.nan except the label 'star_rating':"
   ]
  },
  {
   "cell_type": "code",
   "execution_count": 875,
   "metadata": {
    "collapsed": true
   },
   "outputs": [],
   "source": [
    "rentals_nan = rentals.replace(to_replace = ['-1'], value = np.nan)"
   ]
  },
  {
   "cell_type": "markdown",
   "metadata": {},
   "source": [
    "Merge dataframes:"
   ]
  },
  {
   "cell_type": "code",
   "execution_count": 877,
   "metadata": {
    "collapsed": true
   },
   "outputs": [],
   "source": [
    "text_data = pd.concat([col_df, col_df_des], axis = 1)"
   ]
  },
  {
   "cell_type": "code",
   "execution_count": 878,
   "metadata": {},
   "outputs": [
    {
     "data": {
      "text/plain": [
       "(919, 200)"
      ]
     },
     "execution_count": 878,
     "metadata": {},
     "output_type": "execute_result"
    }
   ],
   "source": [
    "text_data.shape"
   ]
  },
  {
   "cell_type": "code",
   "execution_count": 879,
   "metadata": {
    "collapsed": true
   },
   "outputs": [],
   "source": [
    "final_data = pd.concat([rentals_nan, text_data], axis = 1)"
   ]
  },
  {
   "cell_type": "markdown",
   "metadata": {},
   "source": [
    "Select features used in data modeling:"
   ]
  },
  {
   "cell_type": "code",
   "execution_count": 881,
   "metadata": {
    "collapsed": true
   },
   "outputs": [],
   "source": [
    "rm_features = ['city', 'country', 'description', 'picture_urls', 'picture_captions', 'recent_review', 'active', 'recent_comment', 'latest_com_time']\n",
    "data_model = final_data.drop(rm_features, 1)"
   ]
  },
  {
   "cell_type": "code",
   "execution_count": 882,
   "metadata": {},
   "outputs": [
    {
     "data": {
      "text/plain": [
       "(919, 216)"
      ]
     },
     "execution_count": 882,
     "metadata": {},
     "output_type": "execute_result"
    }
   ],
   "source": [
    "data_model.shape"
   ]
  },
  {
   "cell_type": "code",
   "execution_count": 883,
   "metadata": {},
   "outputs": [
    {
     "data": {
      "text/html": [
       "<div>\n",
       "<table border=\"1\" class=\"dataframe\">\n",
       "  <thead>\n",
       "    <tr style=\"text-align: right;\">\n",
       "      <th></th>\n",
       "      <th>id</th>\n",
       "      <th>bedrooms</th>\n",
       "      <th>bathrooms</th>\n",
       "      <th>is_location_exact</th>\n",
       "      <th>lat</th>\n",
       "      <th>lng</th>\n",
       "      <th>price</th>\n",
       "      <th>no_bedroom</th>\n",
       "      <th>more_than_5_bedroom</th>\n",
       "      <th>price_bathroom</th>\n",
       "      <th>...</th>\n",
       "      <th>tranquility_tfidf</th>\n",
       "      <th>tuin_tfidf</th>\n",
       "      <th>vanaf_tfidf</th>\n",
       "      <th>vehicle_tfidf</th>\n",
       "      <th>walkers_tfidf</th>\n",
       "      <th>wardrobes_tfidf</th>\n",
       "      <th>waves_tfidf</th>\n",
       "      <th>wonderful_tfidf</th>\n",
       "      <th>woods_tfidf</th>\n",
       "      <th>writers_tfidf</th>\n",
       "    </tr>\n",
       "  </thead>\n",
       "  <tbody>\n",
       "    <tr>\n",
       "      <th>0</th>\n",
       "      <td>13050007</td>\n",
       "      <td>1</td>\n",
       "      <td>1.0</td>\n",
       "      <td>1</td>\n",
       "      <td>47.6572</td>\n",
       "      <td>-2.76339</td>\n",
       "      <td>46</td>\n",
       "      <td>0</td>\n",
       "      <td>0</td>\n",
       "      <td>46.000000</td>\n",
       "      <td>...</td>\n",
       "      <td>0.0</td>\n",
       "      <td>0.0</td>\n",
       "      <td>0.0</td>\n",
       "      <td>0.0</td>\n",
       "      <td>0.0</td>\n",
       "      <td>0.0</td>\n",
       "      <td>0.0</td>\n",
       "      <td>0.0</td>\n",
       "      <td>0.0</td>\n",
       "      <td>0.0</td>\n",
       "    </tr>\n",
       "    <tr>\n",
       "      <th>1</th>\n",
       "      <td>13050008</td>\n",
       "      <td>1</td>\n",
       "      <td>1.0</td>\n",
       "      <td>1</td>\n",
       "      <td>48.1947</td>\n",
       "      <td>-3.98124</td>\n",
       "      <td>76</td>\n",
       "      <td>0</td>\n",
       "      <td>0</td>\n",
       "      <td>76.000000</td>\n",
       "      <td>...</td>\n",
       "      <td>0.0</td>\n",
       "      <td>0.0</td>\n",
       "      <td>0.0</td>\n",
       "      <td>0.0</td>\n",
       "      <td>0.0</td>\n",
       "      <td>0.0</td>\n",
       "      <td>0.0</td>\n",
       "      <td>0.0</td>\n",
       "      <td>0.0</td>\n",
       "      <td>0.0</td>\n",
       "    </tr>\n",
       "    <tr>\n",
       "      <th>2</th>\n",
       "      <td>13050011</td>\n",
       "      <td>1</td>\n",
       "      <td>1.5</td>\n",
       "      <td>0</td>\n",
       "      <td>-34.0351</td>\n",
       "      <td>22.94220</td>\n",
       "      <td>28</td>\n",
       "      <td>0</td>\n",
       "      <td>0</td>\n",
       "      <td>18.666667</td>\n",
       "      <td>...</td>\n",
       "      <td>0.0</td>\n",
       "      <td>0.0</td>\n",
       "      <td>0.0</td>\n",
       "      <td>0.0</td>\n",
       "      <td>0.0</td>\n",
       "      <td>0.0</td>\n",
       "      <td>0.0</td>\n",
       "      <td>0.0</td>\n",
       "      <td>0.0</td>\n",
       "      <td>0.0</td>\n",
       "    </tr>\n",
       "    <tr>\n",
       "      <th>3</th>\n",
       "      <td>13050014</td>\n",
       "      <td>2</td>\n",
       "      <td>1.5</td>\n",
       "      <td>1</td>\n",
       "      <td>47.4932</td>\n",
       "      <td>19.05360</td>\n",
       "      <td>31</td>\n",
       "      <td>0</td>\n",
       "      <td>0</td>\n",
       "      <td>20.666667</td>\n",
       "      <td>...</td>\n",
       "      <td>0.0</td>\n",
       "      <td>0.0</td>\n",
       "      <td>0.0</td>\n",
       "      <td>0.0</td>\n",
       "      <td>0.0</td>\n",
       "      <td>0.0</td>\n",
       "      <td>0.0</td>\n",
       "      <td>0.0</td>\n",
       "      <td>0.0</td>\n",
       "      <td>0.0</td>\n",
       "    </tr>\n",
       "    <tr>\n",
       "      <th>4</th>\n",
       "      <td>13050019</td>\n",
       "      <td>2</td>\n",
       "      <td>1.0</td>\n",
       "      <td>1</td>\n",
       "      <td>52.3669</td>\n",
       "      <td>9.75010</td>\n",
       "      <td>131</td>\n",
       "      <td>0</td>\n",
       "      <td>0</td>\n",
       "      <td>131.000000</td>\n",
       "      <td>...</td>\n",
       "      <td>0.0</td>\n",
       "      <td>0.0</td>\n",
       "      <td>0.0</td>\n",
       "      <td>0.0</td>\n",
       "      <td>0.0</td>\n",
       "      <td>0.0</td>\n",
       "      <td>0.0</td>\n",
       "      <td>0.0</td>\n",
       "      <td>0.0</td>\n",
       "      <td>0.0</td>\n",
       "    </tr>\n",
       "  </tbody>\n",
       "</table>\n",
       "<p>5 rows × 216 columns</p>\n",
       "</div>"
      ],
      "text/plain": [
       "         id  bedrooms  bathrooms  is_location_exact      lat       lng  price  \\\n",
       "0  13050007         1        1.0                  1  47.6572  -2.76339     46   \n",
       "1  13050008         1        1.0                  1  48.1947  -3.98124     76   \n",
       "2  13050011         1        1.5                  0 -34.0351  22.94220     28   \n",
       "3  13050014         2        1.5                  1  47.4932  19.05360     31   \n",
       "4  13050019         2        1.0                  1  52.3669   9.75010    131   \n",
       "\n",
       "   no_bedroom  more_than_5_bedroom  price_bathroom      ...        \\\n",
       "0           0                    0       46.000000      ...         \n",
       "1           0                    0       76.000000      ...         \n",
       "2           0                    0       18.666667      ...         \n",
       "3           0                    0       20.666667      ...         \n",
       "4           0                    0      131.000000      ...         \n",
       "\n",
       "   tranquility_tfidf  tuin_tfidf  vanaf_tfidf  vehicle_tfidf  walkers_tfidf  \\\n",
       "0                0.0         0.0          0.0            0.0            0.0   \n",
       "1                0.0         0.0          0.0            0.0            0.0   \n",
       "2                0.0         0.0          0.0            0.0            0.0   \n",
       "3                0.0         0.0          0.0            0.0            0.0   \n",
       "4                0.0         0.0          0.0            0.0            0.0   \n",
       "\n",
       "   wardrobes_tfidf  waves_tfidf  wonderful_tfidf  woods_tfidf  writers_tfidf  \n",
       "0              0.0          0.0              0.0          0.0            0.0  \n",
       "1              0.0          0.0              0.0          0.0            0.0  \n",
       "2              0.0          0.0              0.0          0.0            0.0  \n",
       "3              0.0          0.0              0.0          0.0            0.0  \n",
       "4              0.0          0.0              0.0          0.0            0.0  \n",
       "\n",
       "[5 rows x 216 columns]"
      ]
     },
     "execution_count": 883,
     "metadata": {},
     "output_type": "execute_result"
    }
   ],
   "source": [
    "data_model.head()"
   ]
  },
  {
   "cell_type": "code",
   "execution_count": 909,
   "metadata": {
    "collapsed": true
   },
   "outputs": [],
   "source": [
    "# data_model.to_csv('data_model.csv') # save the intermediate data table"
   ]
  },
  {
   "cell_type": "markdown",
   "metadata": {},
   "source": [
    "### Data Modeling with XGboost Classification:"
   ]
  },
  {
   "cell_type": "markdown",
   "metadata": {},
   "source": [
    "In practice, the right step to conduct data modeling is to split train and test datasets, adn then apply cross validation to train datasets to tune parameters and adjust the performance of models. Due to limited time and data, I directly use cross validation to split the dataset. We are most interested in the varaibles importance in the modeling process instead of the final performance of this simple model."
   ]
  },
  {
   "cell_type": "code",
   "execution_count": 4,
   "metadata": {
    "collapsed": true
   },
   "outputs": [],
   "source": [
    "# data_model = pd.read_csv('data_model.csv', index_col = 0) # read the intermediate data table"
   ]
  },
  {
   "cell_type": "code",
   "execution_count": null,
   "metadata": {
    "collapsed": true
   },
   "outputs": [],
   "source": [
    "import sklearn.cross_validation as cv \n",
    "import xgboost as xgb"
   ]
  },
  {
   "cell_type": "markdown",
   "metadata": {},
   "source": [
    "If you don't have 'xgboost' installed before, please check the install tutorials here: https://github.com/dmlc/xgboost/tree/master/python-package. It may take you about 1 hour to install all packages."
   ]
  },
  {
   "cell_type": "code",
   "execution_count": 41,
   "metadata": {},
   "outputs": [
    {
     "name": "stdout",
     "output_type": "stream",
     "text": [
      "Starting fitting\n",
      "Done Training\n",
      "Round 0 Variable Importance Plot:\n",
      "Axes(0.125,0.125;0.775x0.775)\n",
      "Starting fitting\n",
      "Done Training\n",
      "Round 1 Variable Importance Plot:\n",
      "Axes(0.125,0.125;0.775x0.775)\n",
      "Starting fitting\n",
      "Done Training\n",
      "Round 2 Variable Importance Plot:\n",
      "Axes(0.125,0.125;0.775x0.775)\n"
     ]
    },
    {
     "data": {
      "image/png": "[encoded data removed]",
      "text/plain": [
       "<matplotlib.figure.Figure at 0x11cd38e10>"
      ]
     },
     "metadata": {},
     "output_type": "display_data"
    },
    {
     "data": {
      "image/png": "[encoded data removed]",
      "text/plain": [
       "<matplotlib.figure.Figure at 0x11ce03090>"
      ]
     },
     "metadata": {},
     "output_type": "display_data"
    },
    {
     "data": {
      "image/png": "[encoded data removed]",
      "text/plain": [
       "<matplotlib.figure.Figure at 0x11d277ad0>"
      ]
     },
     "metadata": {},
     "output_type": "display_data"
    }
   ],
   "source": [
    "for i in range(3):\n",
    "    # split the data set\n",
    "    x_train, x_test, y_train, y_test = cv.train_test_split(data_model.drop(['id', 'star_rating'], 1), data_model['star_rating'], \n",
    "                                                      test_size = 1.0/3, random_state = i)\n",
    "    \n",
    "    # train the model\n",
    "    print 'Starting fitting'\n",
    "    params = {'objective': 'multi:softprob',\n",
    "              'eta': 0.01,\n",
    "              'max_depth': 5,\n",
    "              'silent': 0,\n",
    "              'num_class': 3,\n",
    "              'min_child_weight': 2,\n",
    "              'eval_metric': 'auc', # Model Accuracy is measured by the area under the ROC curve (AUC value). \n",
    "               # An area of 1 represents a perfect test; an area of .5 represents a worthless test.\n",
    "              'subsample': 0.65,\n",
    "              'colsample_bytree': 0.7,\n",
    "              'seed': 1234,\n",
    "              'nthread': 8}\n",
    "    num_rounds = 1000\n",
    "    early_stop_rounds = 1000\n",
    "\n",
    "    xgtrain = xgb.DMatrix(x_train, label = y_train, missing = np.nan)\n",
    "    model1 = xgb.train(params, xgtrain, num_rounds)\n",
    "    print 'Done Training'\n",
    "    \n",
    "    # plot the variable importance plot\n",
    "    print 'Round %d Variable Importance Plot:' % i\n",
    "    print xgb.plot_importance(model1, max_num_features = 10)"
   ]
  },
  {
   "cell_type": "markdown",
   "metadata": {},
   "source": [
    "The variable importance plot can provide information of features importance. The above plots show the top 10 features in predicting 'star_rating':   \n",
    "**lng, lat, num_pics, price_bedroom, price, num_pic_caps, num_desc_words, for_tfidf, bath_bed_ratio**.  \n",
    "  \n",
    "This result is reasonable. Location and price play crucial roles in the 'star_rating', and description of rentals also affect customers' rating."
   ]
  },
  {
   "cell_type": "markdown",
   "metadata": {},
   "source": [
    "**What's more:**  \n",
    "We also have other methods to check the importance of variables:\n",
    "1. Implement LASSO regression to do feature engineering. Selected features are more important than discarded features.\n",
    "2. Scale and normalize all features before regression models, and then compare the value of coefficients. Features with larger value is more important.\n",
    "3. Correlation analysis between features and the label. features that have higher correlated value are very important.   \n",
    "\n",
    "We won't implement these methods in this project due to limited time, but they are good choices to check variables importance."
   ]
  },
  {
   "cell_type": "markdown",
   "metadata": {},
   "source": [
    "### Final Note:"
   ]
  },
  {
   "cell_type": "markdown",
   "metadata": {},
   "source": [
    "In this project, I focus on the methodology for handling the dataset instead of the performance of modeling. The sample dataset is too dirty and too small to give a persuasive conclusion. However, we can apply above methods to a large real world dataset. I believe there must be some invaluable insights."
   ]
  },
  {
   "cell_type": "markdown",
   "metadata": {},
   "source": [
    "# Part 3.1 - Web Scraping"
   ]
  },
  {
   "cell_type": "markdown",
   "metadata": {
    "collapsed": true
   },
   "source": [
    "'Beautiful Soup', 'Spider' and 'Selenium' are very useful in web scraping dynamic websites. In order to make sure the scraping is not blocked, we could use random sleeping time and mutiple IP agencies to avoid being identified as robots. Also, there are some smart code on github that can provide us new ideas."
   ]
  }
 ],
 "metadata": {
  "anaconda-cloud": {},
  "kernelspec": {
   "display_name": "Python 2",
   "language": "python",
   "name": "python2"
  },
  "language_info": {
   "codemirror_mode": {
    "name": "ipython",
    "version": 2
   },
   "file_extension": ".py",
   "mimetype": "text/x-python",
   "name": "python",
   "nbconvert_exporter": "python",
   "pygments_lexer": "ipython2",
   "version": "2.7.13"
  }
 },
 "nbformat": 4,
 "nbformat_minor": 1
}
